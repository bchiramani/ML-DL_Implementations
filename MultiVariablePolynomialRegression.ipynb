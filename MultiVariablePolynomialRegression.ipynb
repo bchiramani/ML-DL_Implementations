{
  "nbformat": 4,
  "nbformat_minor": 0,
  "metadata": {
    "colab": {
      "provenance": [],
      "authorship_tag": "ABX9TyPWuj75xBkNFP6Rl9sbq9lU",
      "include_colab_link": true
    },
    "kernelspec": {
      "name": "python3",
      "display_name": "Python 3"
    },
    "language_info": {
      "name": "python"
    }
  },
  "cells": [
    {
      "cell_type": "markdown",
      "metadata": {
        "id": "view-in-github",
        "colab_type": "text"
      },
      "source": [
        "<a href=\"https://colab.research.google.com/github/bchiramani/ML-DL_Implementations/blob/main/MultiVariablePolynomialRegression.ipynb\" target=\"_parent\"><img src=\"https://colab.research.google.com/assets/colab-badge.svg\" alt=\"Open In Colab\"/></a>"
      ]
    },
    {
      "cell_type": "markdown",
      "source": [
        "# Multi Variable Polynomial Regression "
      ],
      "metadata": {
        "id": "o2pAKQFrw9LY"
      }
    },
    {
      "cell_type": "code",
      "source": [
        "import numpy as np\n",
        "from sklearn.datasets import make_regression \n",
        "import matplotlib.pyplot as plt"
      ],
      "metadata": {
        "id": "h81LLRfhw6Jm"
      },
      "execution_count": 7,
      "outputs": []
    },
    {
      "cell_type": "markdown",
      "source": [
        "## Generate Data"
      ],
      "metadata": {
        "id": "3uLBX9brw8Fi"
      }
    },
    {
      "cell_type": "code",
      "execution_count": 14,
      "metadata": {
        "id": "bBtvk5ifwSZ_"
      },
      "outputs": [],
      "source": [
        "def generate_data (theta) : \n",
        "  x , y = make_regression(n_samples=100 , n_features = 1 , noise=5 )\n",
        "  y = 5*y**3 +4*y**2+3*y+np.random.normal(-3,5,100)\n",
        "  y=y.reshape((y.shape[0],1))\n",
        "  X_train = np.hstack((x, np.ones(x.shape)))\n",
        "  X_train= np.hstack((x**2,X_train))\n",
        "  X_train= np.hstack((x**3,X_train))\n",
        "  y_pred= model(X_train,theta)\n",
        "  plt.scatter(x,y)\n",
        "  print(\"in generate data : X_train\", X_train.shape)\n",
        "  print(\"in generate data : Y_train\", y.shape)\n",
        "  print(\"in generate data : Y_pred\", y_pred.shape)\n",
        "  \n",
        "  return x , y , X_train, y_pred"
      ]
    },
    {
      "cell_type": "code",
      "source": [
        "def model (X_train , theta):\n",
        "  return  X_train.dot(theta)"
      ],
      "metadata": {
        "id": "pHPgRJdwzXGw"
      },
      "execution_count": 15,
      "outputs": []
    },
    {
      "cell_type": "code",
      "source": [
        "def cost_function(X_train,y,theta):\n",
        "  m = len(y)\n",
        "  return 1/(2*m) * np.sum((model(X_train,theta)-y)**2)"
      ],
      "metadata": {
        "id": "bzTcM_pdxFmy"
      },
      "execution_count": 16,
      "outputs": []
    },
    {
      "cell_type": "code",
      "source": [
        "def gradient(X_train, y, theta):\n",
        "  m=len(y)\n",
        "  y_pred=model( X_train , theta)\n",
        "  return (1/m)*(X_train.T.dot(y_pred-y))"
      ],
      "metadata": {
        "id": "VgIEeq4vy8eM"
      },
      "execution_count": 17,
      "outputs": []
    },
    {
      "cell_type": "code",
      "source": [
        "def gradient_descent(X_train,y,theta,learning_rate,n_iterations):\n",
        "  cost_history = np.zeros(n_iterations)\n",
        "  for i in range(0,n_iterations):\n",
        "    theta -= learning_rate * gradient (X_train,y,theta)\n",
        "    cost_history[i] = cost_function(X_train,y,theta)\n",
        "  return theta ,cost_history"
      ],
      "metadata": {
        "id": "pbekfMx02SCL"
      },
      "execution_count": 22,
      "outputs": []
    },
    {
      "cell_type": "markdown",
      "source": [
        "## Main"
      ],
      "metadata": {
        "id": "ANeJMgMXKJhv"
      }
    },
    {
      "cell_type": "code",
      "source": [
        "theta = np.random.randn( 4 , 1 )\n",
        "x, y, X_train , y_pred = generate_data(theta)\n",
        "# Plot the data\n",
        "plt.scatter(x,y)\n",
        "plt.plot( x , y_pred , c = 'r' )"
      ],
      "metadata": {
        "colab": {
          "base_uri": "https://localhost:8080/",
          "height": 345
        },
        "id": "vgXdimVW2TyR",
        "outputId": "6f3b64d0-9f71-4c13-f407-83b3fcaca292"
      },
      "execution_count": 23,
      "outputs": [
        {
          "output_type": "stream",
          "name": "stdout",
          "text": [
            "in generate data : X_train (100, 4)\n",
            "in generate data : Y_train (100, 1)\n",
            "in generate data : Y_pred (100, 1)\n"
          ]
        },
        {
          "output_type": "execute_result",
          "data": {
            "text/plain": [
              "[<matplotlib.lines.Line2D at 0x7fa0262b0d60>]"
            ]
          },
          "metadata": {},
          "execution_count": 23
        },
        {
          "output_type": "display_data",
          "data": {
            "text/plain": [
              "<Figure size 432x288 with 1 Axes>"
            ],
            "image/png": "[encoded data removed]"
          },
          "metadata": {
            "needs_background": "light"
          }
        }
      ]
    },
    {
      "cell_type": "code",
      "source": [
        "# hyper parameters definition\n",
        "learning_rate= 0.01\n",
        "n_iterations = 1000"
      ],
      "metadata": {
        "id": "lPMTOpJX2aTx"
      },
      "execution_count": 24,
      "outputs": []
    },
    {
      "cell_type": "code",
      "source": [
        "theta, cost_history = gradient_descent(X_train,y,theta,learning_rate,n_iterations)\n",
        "y_pred = model(  X_train , theta )\n",
        "plt.plot(range(n_iterations), cost_history)"
      ],
      "metadata": {
        "id": "UfVwn5t42cx8",
        "outputId": "60cf44ff-5b5e-4cf1-e2ab-324555e0b7d8",
        "colab": {
          "base_uri": "https://localhost:8080/",
          "height": 293
        }
      },
      "execution_count": 25,
      "outputs": [
        {
          "output_type": "execute_result",
          "data": {
            "text/plain": [
              "[<matplotlib.lines.Line2D at 0x7fa026214a60>]"
            ]
          },
          "metadata": {},
          "execution_count": 25
        },
        {
          "output_type": "display_data",
          "data": {
            "text/plain": [
              "<Figure size 432x288 with 1 Axes>"
            ],
            "image/png": "[encoded data removed]"
          },
          "metadata": {
            "needs_background": "light"
          }
        }
      ]
    },
    {
      "cell_type": "code",
      "source": [
        "#Plot the predictions\n",
        "print(\"generated data\")\n",
        "plt.scatter(x,y)\n",
        "plt.scatter( x , y_pred , c = 'r' )"
      ],
      "metadata": {
        "id": "zcXWjURU2fFW",
        "colab": {
          "base_uri": "https://localhost:8080/",
          "height": 311
        },
        "outputId": "bd14f8bb-2cfe-45ec-a456-501a6646cdd7"
      },
      "execution_count": 28,
      "outputs": [
        {
          "output_type": "stream",
          "name": "stdout",
          "text": [
            "generated data\n"
          ]
        },
        {
          "output_type": "execute_result",
          "data": {
            "text/plain": [
              "<matplotlib.collections.PathCollection at 0x7fa026089f40>"
            ]
          },
          "metadata": {},
          "execution_count": 28
        },
        {
          "output_type": "display_data",
          "data": {
            "text/plain": [
              "<Figure size 432x288 with 1 Axes>"
            ],
            "image/png": "[encoded data removed]"
          },
          "metadata": {
            "needs_background": "light"
          }
        }
      ]
    },
    {
      "cell_type": "code",
      "source": [],
      "metadata": {
        "id": "rxGxE4E97Fwo"
      },
      "execution_count": null,
      "outputs": []
    }
  ]
}